{
 "cells": [
  {
   "cell_type": "code",
   "execution_count": 1,
   "metadata": {},
   "outputs": [],
   "source": [
    "import numpy as np\n",
    "import random\n",
    "import networkx as nx\n",
    "from matplotlib import pyplot as plt\n",
    "import pandas as pd\n",
    "import copy\n",
    "import os\n",
    "import sys\n",
    "import networkx as nx\n",
    "from scipy.sparse import lil_matrix, coo_matrix\n",
    "from scipy.io import mmwrite"
   ]
  },
  {
   "cell_type": "code",
   "execution_count": 2,
   "metadata": {},
   "outputs": [],
   "source": [
    "# 一つ上の階層のmoduleをインポートできるようにする\n",
    "current_dir = os.path.dirname(os.path.abspath(\"__file__\"))\n",
    "sys.path.append( str(current_dir) + '/../' )"
   ]
  },
  {
   "cell_type": "code",
   "execution_count": 3,
   "metadata": {},
   "outputs": [],
   "source": [
    "from setting_param import MakeSample_attribute_prediction_exist_InputDir as InputDir\n",
    "from setting_param import MakeSample_attribute_prediction_exist_Age_OutputDir as OutputDir\n",
    "from setting_param import L\n",
    "from setting_param import attribute_dim"
   ]
  },
  {
   "cell_type": "code",
   "execution_count": 4,
   "metadata": {},
   "outputs": [],
   "source": [
    "os.mkdir(OutputDir)\n",
    "os.mkdir(OutputDir + \"/input/\")\n",
    "os.mkdir(OutputDir + \"/input/node_attribute/\")\n",
    "os.mkdir(OutputDir + \"/input/adjacency\")\n",
    "os.mkdir(OutputDir + \"/label/\")\n",
    "os.mkdir(OutputDir + \"/mask/\")"
   ]
  },
  {
   "cell_type": "code",
   "execution_count": 5,
   "metadata": {},
   "outputs": [
    {
     "data": {
      "text/plain": [
       "(3859, 68)"
      ]
     },
     "execution_count": 5,
     "metadata": {},
     "output_type": "execute_result"
    }
   ],
   "source": [
    "# READ EXIST_TABLE\n",
    "EXIST_TABLE = np.load(InputDir + '/exist_table.npy')\n",
    "EXIST_TABLE.shape"
   ]
  },
  {
   "cell_type": "code",
   "execution_count": 6,
   "metadata": {},
   "outputs": [],
   "source": [
    "n_node = EXIST_TABLE.shape[0]"
   ]
  },
  {
   "cell_type": "code",
   "execution_count": 7,
   "metadata": {},
   "outputs": [],
   "source": [
    "def ExistNodeList(ts):\n",
    "    assert ts >= 0, \"ts < 0 [referrence error]\"\n",
    "    return np.where(EXIST_TABLE[:, ts]==1)[0]\n",
    "\n",
    "def GetAppearedNodes(ts):\n",
    "    return set(ExistNodeList(ts)) - set(ExistNodeList(ts-1))\n",
    "\n",
    "def GetObservedNodes(ts, L):\n",
    "    U = set()\n",
    "    for i in range(L):\n",
    "        U |= set(ExistNodeList(ts-i))\n",
    "    return U\n",
    "\n",
    "def GetNodes(ts, L, node_type):\n",
    "    if node_type=='all':\n",
    "        node_set = set(ExistNodeList(ts))\n",
    "    elif node_type=='stay':\n",
    "        node_set = set(ExistNodeList(ts-1)) & set(ExistNodeList(ts))\n",
    "    elif node_type=='lost':\n",
    "        node_set = set(ExistNodeList(ts-1)) - set(ExistNodeList(ts))\n",
    "    elif node_type=='return':\n",
    "        node_set = GetAppearedNodes(ts) - (GetAppearedNodes(ts) - GetObservedNodes(ts-1, L))\n",
    "    elif node_type=='new':\n",
    "        node_set = GetAppearedNodes(ts) - GetObservedNodes(ts-1, L)\n",
    "        node_set |= GetNodes(ts, L, 'return')\n",
    "    return node_set"
   ]
  },
  {
   "cell_type": "code",
   "execution_count": 8,
   "metadata": {},
   "outputs": [],
   "source": [
    "def Nx(ts):\n",
    "    return  nx.from_numpy_matrix(np.load(InputDir + '/adjacency' + str(ts) + '.npy'))\n",
    "\n",
    "def SubNxNew(ts, L):\n",
    "    return nx.Graph(Nx(ts).edges(GetNodes(ts, L, 'new')))\n",
    "\n",
    "def SubNxLost(ts, L):\n",
    "    return nx.Graph(Nx(ts-1).edges(GetNodes(ts, L, 'lost')))\n",
    "\n",
    "def GetEdges(ts, L, edge_type):\n",
    "    G_1 = Nx(ts)\n",
    "    if edge_type == \"all\":\n",
    "        edge_set = G_1.edges\n",
    "    elif edge_type == 'stay':\n",
    "        G_0 = Nx(ts - 1)\n",
    "        edge_set = G_0.edges & G_1.edges\n",
    "    elif edge_type == \"appeared\":\n",
    "        G_0 = Nx(ts - 1)\n",
    "        edge_set = G_1.edges - G_0.edges - SubNxNew(ts, L).edges\n",
    "    elif edge_type == \"disappeared\":\n",
    "        G_0 = Nx(ts - 1)\n",
    "        edge_set = G_0.edges - G_1.edges - SubNxLost(ts, L).edges\n",
    "    return edge_set"
   ]
  },
  {
   "cell_type": "code",
   "execution_count": 9,
   "metadata": {},
   "outputs": [],
   "source": [
    "def get_adjacency_matrix(ts, L, edge_type):\n",
    "    G = nx.Graph(list(GetEdges(ts, L, edge_type)))\n",
    "    A = np.array(nx.to_numpy_matrix(G, nodelist=[i for i in range(n_node)]))\n",
    "    return A\n",
    "\n",
    "def get_exist_matrix(ts):\n",
    "    index = np.where(EXIST_TABLE[:, ts] == 1)[0]\n",
    "    exist_row = np.zeros((n_node, n_node))\n",
    "    exist_row[index] = 1\n",
    "    exist_col = np.zeros((n_node, n_node))\n",
    "    exist_col[:, index] = 1\n",
    "    return exist_row * exist_col\n",
    "\n",
    "def NodeAttribute(ts):\n",
    "    return  np.load(InputDir + '/node_attribute' + str(ts) + '.npy')"
   ]
  },
  {
   "cell_type": "code",
   "execution_count": 10,
   "metadata": {},
   "outputs": [],
   "source": [
    "def TsSplit(ts, L):\n",
    "    ts_train = [(ts+l) for l in range(L)]\n",
    "    ts_test = ts_train[-1]+1\n",
    "    ts_all = ts_train.copy()\n",
    "    ts_all.extend([ts_test])\n",
    "    return ts_train, ts_test, ts_all"
   ]
  },
  {
   "cell_type": "code",
   "execution_count": 11,
   "metadata": {},
   "outputs": [
    {
     "name": "stdout",
     "output_type": "stream",
     "text": [
      "[0, 1, 2, 3, 4, 5, 6, 7, 8, 9, 10, 11, 12, 13, 14, 15, 16, 17, 18, 19, 20, 21, 22, 23, 24, 25, 26, 27, 28, 29]\n",
      "[30, 31, 32]\n",
      "[33]\n",
      "[34]\n"
     ]
    }
   ],
   "source": [
    "#Attribute Index\n",
    "Tm_idx = [i for i in range(30)]\n",
    "Pos_idx = [i for i in range(30, 33)]\n",
    "Age_idx = [33]\n",
    "PTS_idx = [34]\n",
    "\n",
    "print(Tm_idx)\n",
    "print(Pos_idx)\n",
    "print(Age_idx)\n",
    "print(PTS_idx)\n",
    "\n",
    "for ts in range(L, EXIST_TABLE.shape[1]-L):\n",
    "    ts_train, ts_test, ts_all = TsSplit(ts, L)\n",
    "    node_attribute = np.zeros((n_node, attribute_dim * L))\n",
    "    npy_adjacency_matrix = np.zeros((n_node, n_node * L))\n",
    "    for idx, ts_ in enumerate(ts_train):\n",
    "        node_attribute[:, attribute_dim*idx : attribute_dim*(idx+1)] = NodeAttribute(ts_)\n",
    "        npy_adjacency_matrix[:, n_node*idx : n_node*(idx+1)] = get_adjacency_matrix(ts_, L, 'all')\n",
    "    lil_adjacency_matrix = lil_matrix(npy_adjacency_matrix)\n",
    "    lil_node_attribute = lil_matrix(node_attribute)\n",
    "    mmwrite(OutputDir + \"/input/node_attribute/\" + str(ts), lil_node_attribute)\n",
    "    mmwrite(OutputDir + \"/input/adjacency/\" + str(ts), lil_adjacency_matrix)\n",
    "    \n",
    "    label = NodeAttribute(ts_test)[:, Age_idx]\n",
    "    mmwrite(OutputDir + \"/label/\" + str(ts), lil_matrix(label))\n",
    "    \n",
    "    mask = np.zeros((n_node, label.shape[1]))\n",
    "    mask[sorted(GetNodes(ts_test, L, 'stay')), :] = 1\n",
    "    mmwrite(OutputDir + \"/mask/\" + str(ts), lil_matrix(mask))"
   ]
  },
  {
   "cell_type": "code",
   "execution_count": null,
   "metadata": {},
   "outputs": [],
   "source": []
  }
 ],
 "metadata": {
  "kernelspec": {
   "display_name": "Python 3",
   "language": "python",
   "name": "python3"
  },
  "language_info": {
   "codemirror_mode": {
    "name": "ipython",
    "version": 3
   },
   "file_extension": ".py",
   "mimetype": "text/x-python",
   "name": "python",
   "nbconvert_exporter": "python",
   "pygments_lexer": "ipython3",
   "version": "3.7.1"
  }
 },
 "nbformat": 4,
 "nbformat_minor": 2
}
