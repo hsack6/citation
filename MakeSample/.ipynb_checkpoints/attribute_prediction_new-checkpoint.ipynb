{
 "cells": [
  {
   "cell_type": "code",
   "execution_count": 1,
   "metadata": {},
   "outputs": [],
   "source": [
    "import numpy as np\n",
    "import random\n",
    "import networkx as nx\n",
    "from matplotlib import pyplot as plt\n",
    "import pandas as pd\n",
    "import copy\n",
    "import os\n",
    "import sys\n",
    "import networkx as nx"
   ]
  },
  {
   "cell_type": "code",
   "execution_count": 2,
   "metadata": {},
   "outputs": [],
   "source": [
    "# 一つ上の階層のmoduleをインポートできるようにする\n",
    "current_dir = os.path.dirname(os.path.abspath(\"__file__\"))\n",
    "sys.path.append( str(current_dir) + '/../' )"
   ]
  },
  {
   "cell_type": "code",
   "execution_count": 3,
   "metadata": {},
   "outputs": [],
   "source": [
    "from setting_param import MakeSample_attribute_prediction_new_InputDir as InputDir\n",
    "from setting_param import MakeSample_attribute_prediction_new_OutputDir as OutputDir\n",
    "from setting_param import Evaluation_prediction_num_of_node_new_LSTM_InputDir as predicted_num_InputDir\n",
    "from setting_param import L"
   ]
  },
  {
   "cell_type": "code",
   "execution_count": 4,
   "metadata": {},
   "outputs": [],
   "source": [
    "os.mkdir(OutputDir)\n",
    "os.mkdir(OutputDir + \"/new/\")\n",
    "os.mkdir(OutputDir + \"/teacher/\")\n",
    "os.mkdir(OutputDir + \"/new_num/\")\n",
    "os.mkdir(OutputDir + \"/teacher_num/\")\n",
    "os.mkdir(OutputDir + \"/teacher_idx/\")"
   ]
  },
  {
   "cell_type": "code",
   "execution_count": 5,
   "metadata": {},
   "outputs": [
    {
     "data": {
      "text/plain": [
       "(3859, 68)"
      ]
     },
     "execution_count": 5,
     "metadata": {},
     "output_type": "execute_result"
    }
   ],
   "source": [
    "# READ EXIST_TABLE\n",
    "EXIST_TABLE = np.load(InputDir + '/exist_table.npy')\n",
    "EXIST_TABLE.shape"
   ]
  },
  {
   "cell_type": "code",
   "execution_count": 6,
   "metadata": {},
   "outputs": [],
   "source": [
    "n_node = EXIST_TABLE.shape[0]"
   ]
  },
  {
   "cell_type": "code",
   "execution_count": 7,
   "metadata": {},
   "outputs": [],
   "source": [
    "def ExistNodeList(ts):\n",
    "    assert ts >= 0, \"ts < 0 [referrence error]\"\n",
    "    return np.where(EXIST_TABLE[:, ts]==1)[0]\n",
    "\n",
    "def GetAppearedNodes(ts):\n",
    "    return set(ExistNodeList(ts)) - set(ExistNodeList(ts-1))\n",
    "\n",
    "def GetObservedNodes(ts, L):\n",
    "    U = set()\n",
    "    for i in range(L):\n",
    "        U |= set(ExistNodeList(ts-i))\n",
    "    return U\n",
    "\n",
    "def GetNodes(ts, L, node_type):\n",
    "    if node_type=='all':\n",
    "        node_set = set(ExistNodeList(ts))\n",
    "    elif node_type=='stay':\n",
    "        node_set = set(ExistNodeList(ts-1)) & set(ExistNodeList(ts))\n",
    "    elif node_type=='lost':\n",
    "        node_set = set(ExistNodeList(ts-1)) - set(ExistNodeList(ts))\n",
    "    elif node_type=='return':\n",
    "        node_set = GetAppearedNodes(ts) - (GetAppearedNodes(ts) - GetObservedNodes(ts-1, L))\n",
    "    elif node_type=='new':\n",
    "        node_set = GetAppearedNodes(ts) - GetObservedNodes(ts-1, L)\n",
    "        node_set |= GetNodes(ts, L, 'return')\n",
    "    return node_set"
   ]
  },
  {
   "cell_type": "code",
   "execution_count": 8,
   "metadata": {},
   "outputs": [],
   "source": [
    "def NodeAttribute(ts):\n",
    "    return  np.load(InputDir + '/node_attribute' + str(ts) + '.npy')"
   ]
  },
  {
   "cell_type": "code",
   "execution_count": 9,
   "metadata": {},
   "outputs": [],
   "source": [
    "def TsSplit(ts, L):\n",
    "    ts_train = [(ts+l) for l in range(L)]\n",
    "    ts_test = ts_train[-1]+1\n",
    "    ts_all = ts_train.copy()\n",
    "    ts_all.extend([ts_test])\n",
    "    return ts_train, ts_test, ts_all"
   ]
  },
  {
   "cell_type": "code",
   "execution_count": 10,
   "metadata": {},
   "outputs": [
    {
     "data": {
      "text/plain": [
       "89"
      ]
     },
     "execution_count": 10,
     "metadata": {},
     "output_type": "execute_result"
    }
   ],
   "source": [
    "# predicted_new_node_numの最大値を取得\n",
    "predicted_new_node_num_list = []\n",
    "for ts in range(L, EXIST_TABLE.shape[1]-L):\n",
    "    predicted_new_node_num = int(np.load(predicted_num_InputDir + '/output/pred' + str(ts) + '.npy')[0])\n",
    "    predicted_new_node_num_list.append(predicted_new_node_num)\n",
    "max_predicted_new_node_num = max(predicted_new_node_num_list)\n",
    "max_predicted_new_node_num"
   ]
  },
  {
   "cell_type": "code",
   "execution_count": 11,
   "metadata": {},
   "outputs": [
    {
     "data": {
      "text/plain": [
       "117"
      ]
     },
     "execution_count": 11,
     "metadata": {},
     "output_type": "execute_result"
    }
   ],
   "source": [
    "# new_node_numの最大値を取得\n",
    "new_node_num_list = []\n",
    "for ts in range(L, EXIST_TABLE.shape[1]-L):\n",
    "    ts_train, ts_test, ts_all = TsSplit(ts, L)\n",
    "    new_node_num = len(GetNodes(ts_test, L, 'new'))\n",
    "    new_node_num_list.append(new_node_num)\n",
    "max_new_node_num = max(new_node_num_list)\n",
    "max_new_node_num"
   ]
  },
  {
   "cell_type": "code",
   "execution_count": 18,
   "metadata": {},
   "outputs": [],
   "source": [
    "for ts in range(L, EXIST_TABLE.shape[1]-L):\n",
    "    ts_train, ts_test, ts_all = TsSplit(ts, L)\n",
    "    node_attribute = NodeAttribute(ts_train[-1])[sorted(GetNodes(ts_train[-1], L, 'new'))]\n",
    "    predicted_new_node_num = int(np.load(predicted_num_InputDir + '/output/pred' + str(ts) + '.npy')[0])\n",
    "    \n",
    "    # input_matrixをnode_attributeを用いて初期化する。\n",
    "    input_matrix = np.empty((0, node_attribute.shape[1]), float)\n",
    "    for _ in range(predicted_new_node_num // node_attribute.shape[0]):\n",
    "        input_matrix = np.append(input_matrix, node_attribute, axis=0)\n",
    "    input_matrix = np.append(input_matrix, node_attribute[:predicted_new_node_num % node_attribute.shape[0]], axis=0)\n",
    "    assert input_matrix.shape[0] == predicted_new_node_num, \"Assignment error\"\n",
    "    # padding済みの行列new_matrixにinput_matrixを代入\n",
    "    new_matrix = np.zeros((max_predicted_new_node_num, node_attribute.shape[1]))\n",
    "    new_matrix[:predicted_new_node_num] = input_matrix\n",
    "    \n",
    "    # labelを取得\n",
    "    label_matrix = NodeAttribute(ts_test)[sorted(GetNodes(ts_test, L, 'new'))]\n",
    "    label_idx = sorted(GetNodes(ts_test, L, 'new'))\n",
    "    # padding済みの行列teacher_matrixにlabel_matrixを代入\n",
    "    teacher_matrix = np.zeros((max_new_node_num, node_attribute.shape[1]))\n",
    "    teacher_matrix[:label_matrix.shape[0]] = label_matrix\n",
    "    teacher_idx = np.zeros(max_new_node_num)\n",
    "    teacher_idx[:len(label_idx)] = label_idx\n",
    "\n",
    "    np.save(OutputDir + \"/new/\" + str(ts), new_matrix)\n",
    "    np.save(OutputDir + \"/new_num/\" + str(ts), predicted_new_node_num)\n",
    "    np.save(OutputDir + \"/teacher/\" + str(ts), teacher_matrix)\n",
    "    np.save(OutputDir + \"/teacher_num/\" + str(ts), len(label_idx))\n",
    "    np.save(OutputDir + \"/teacher_idx/\" + str(ts), teacher_idx)"
   ]
  },
  {
   "cell_type": "code",
   "execution_count": null,
   "metadata": {},
   "outputs": [],
   "source": []
  }
 ],
 "metadata": {
  "kernelspec": {
   "display_name": "Python 3",
   "language": "python",
   "name": "python3"
  },
  "language_info": {
   "codemirror_mode": {
    "name": "ipython",
    "version": 3
   },
   "file_extension": ".py",
   "mimetype": "text/x-python",
   "name": "python",
   "nbconvert_exporter": "python",
   "pygments_lexer": "ipython3",
   "version": "3.7.1"
  }
 },
 "nbformat": 4,
 "nbformat_minor": 2
}
